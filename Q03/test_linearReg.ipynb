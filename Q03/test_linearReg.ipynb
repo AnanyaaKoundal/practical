import unittest

class LinearRegressionTest(unittest.TestCase):
    def test_linear_regression(self):
        # Add your test code here
        pass

if __name__ == '__main__':
    unittest.main()